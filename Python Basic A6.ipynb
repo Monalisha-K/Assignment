{
 "cells": [
  {
   "cell_type": "markdown",
   "id": "fbba504c",
   "metadata": {},
   "source": [
    "# 1. What are escape characters, and how do you use them?"
   ]
  },
  {
   "cell_type": "code",
   "execution_count": null,
   "id": "c85a7fcc",
   "metadata": {},
   "outputs": [],
   "source": [
    "Escape characters are characters in string values . These are really important to make our code possible.\n",
    "Example- if we want to add a new line then we use \\n(escape character)"
   ]
  },
  {
   "cell_type": "markdown",
   "id": "6a38145c",
   "metadata": {},
   "source": [
    "# 2. What do the escape characters n and t stand for?"
   ]
  },
  {
   "cell_type": "markdown",
   "id": "06ecd12a",
   "metadata": {},
   "source": [
    "\\n- newline\n",
    "\\t- tab"
   ]
  },
  {
   "cell_type": "markdown",
   "id": "3ebf4f18",
   "metadata": {},
   "source": [
    "# 3. What is the way to include backslash characters in a string?"
   ]
  },
  {
   "cell_type": "markdown",
   "id": "1ad89879",
   "metadata": {},
   "source": [
    "\\\\ escape character -represent backslash characters in a string."
   ]
  },
  {
   "cell_type": "markdown",
   "id": "5c12e3df",
   "metadata": {},
   "source": [
    "# 4. The string \"Howl's Moving Castle\" is a correct value. Why isn't the single quote character in the word Howl's not escaped a problem?"
   ]
  },
  {
   "cell_type": "markdown",
   "id": "78a3baf9",
   "metadata": {},
   "source": [
    "The string \"Howl's Moving Castle\" is a correct value because here double quotes is used to mark the string."
   ]
  },
  {
   "cell_type": "markdown",
   "id": "f252b3df",
   "metadata": {},
   "source": [
    "# 5. How do you write a string of newlines if you don't want to use the n character?"
   ]
  },
  {
   "cell_type": "markdown",
   "id": "d1a17613",
   "metadata": {},
   "source": [
    "Multiline strings allow to write use newlines in strings without \\n escape character"
   ]
  },
  {
   "cell_type": "markdown",
   "id": "be32dc9d",
   "metadata": {},
   "source": [
    "# 6. What are the values of the given expressions?"
   ]
  },
  {
   "cell_type": "code",
   "execution_count": 1,
   "id": "7466f22a",
   "metadata": {},
   "outputs": [
    {
     "data": {
      "text/plain": [
       "'e'"
      ]
     },
     "execution_count": 1,
     "metadata": {},
     "output_type": "execute_result"
    }
   ],
   "source": [
    "'Hello, world!'[1]"
   ]
  },
  {
   "cell_type": "code",
   "execution_count": 2,
   "id": "2baa9b95",
   "metadata": {},
   "outputs": [
    {
     "data": {
      "text/plain": [
       "'Hello'"
      ]
     },
     "execution_count": 2,
     "metadata": {},
     "output_type": "execute_result"
    }
   ],
   "source": [
    "'Hello, world!'[0:5]"
   ]
  },
  {
   "cell_type": "code",
   "execution_count": 3,
   "id": "c1beeede",
   "metadata": {},
   "outputs": [
    {
     "data": {
      "text/plain": [
       "'Hello'"
      ]
     },
     "execution_count": 3,
     "metadata": {},
     "output_type": "execute_result"
    }
   ],
   "source": [
    "'Hello, world!'[:5]"
   ]
  },
  {
   "cell_type": "code",
   "execution_count": 4,
   "id": "c06269f6",
   "metadata": {},
   "outputs": [
    {
     "data": {
      "text/plain": [
       "'lo, world!'"
      ]
     },
     "execution_count": 4,
     "metadata": {},
     "output_type": "execute_result"
    }
   ],
   "source": [
    "'Hello, world!'[3:]"
   ]
  },
  {
   "cell_type": "markdown",
   "id": "a6c8a062",
   "metadata": {},
   "source": [
    "# 7. What are the values of the following expressions?"
   ]
  },
  {
   "cell_type": "code",
   "execution_count": 5,
   "id": "e90c7240",
   "metadata": {},
   "outputs": [
    {
     "data": {
      "text/plain": [
       "'HELLO'"
      ]
     },
     "execution_count": 5,
     "metadata": {},
     "output_type": "execute_result"
    }
   ],
   "source": [
    "'Hello'.upper()"
   ]
  },
  {
   "cell_type": "code",
   "execution_count": 6,
   "id": "5c950469",
   "metadata": {},
   "outputs": [
    {
     "data": {
      "text/plain": [
       "True"
      ]
     },
     "execution_count": 6,
     "metadata": {},
     "output_type": "execute_result"
    }
   ],
   "source": [
    "'Hello'.upper().isupper()"
   ]
  },
  {
   "cell_type": "code",
   "execution_count": 7,
   "id": "a448acd3",
   "metadata": {},
   "outputs": [
    {
     "data": {
      "text/plain": [
       "'hello'"
      ]
     },
     "execution_count": 7,
     "metadata": {},
     "output_type": "execute_result"
    }
   ],
   "source": [
    "'Hello'.upper().lower()"
   ]
  },
  {
   "cell_type": "markdown",
   "id": "8782810e",
   "metadata": {},
   "source": [
    "# 8. What are the values of the following expressions?"
   ]
  },
  {
   "cell_type": "code",
   "execution_count": 8,
   "id": "e374008c",
   "metadata": {},
   "outputs": [
    {
     "data": {
      "text/plain": [
       "['Remember,', 'remember,', 'the', 'fifth', 'of', 'July.']"
      ]
     },
     "execution_count": 8,
     "metadata": {},
     "output_type": "execute_result"
    }
   ],
   "source": [
    "'Remember, remember, the fifth of July.'.split()"
   ]
  },
  {
   "cell_type": "code",
   "execution_count": 9,
   "id": "78ecce24",
   "metadata": {},
   "outputs": [
    {
     "data": {
      "text/plain": [
       "'There-can-only-one.'"
      ]
     },
     "execution_count": 9,
     "metadata": {},
     "output_type": "execute_result"
    }
   ],
   "source": [
    "'-'.join('There can only one.'.split())"
   ]
  },
  {
   "cell_type": "markdown",
   "id": "1530ae0a",
   "metadata": {},
   "source": [
    "# 9. What are the methods for right-justifying, left-justifying, and centering a string?"
   ]
  },
  {
   "cell_type": "markdown",
   "id": "c8ee7b2b",
   "metadata": {},
   "source": [
    "Methods for string-\n",
    "right-justifying-->rjust()\n",
    "left-justifying-->ljust()\n",
    "centering-->center()"
   ]
  },
  {
   "cell_type": "markdown",
   "id": "3bf707bc",
   "metadata": {},
   "source": [
    "# 10. What is the best way to remove whitespace characters from the start or end?"
   ]
  },
  {
   "cell_type": "markdown",
   "id": "3d2bfb2e",
   "metadata": {},
   "source": [
    "lstrip() and rstrip()- methods to remove whitespace characters from left and right ends of a string"
   ]
  }
 ],
 "metadata": {
  "kernelspec": {
   "display_name": "Python 3 (ipykernel)",
   "language": "python",
   "name": "python3"
  },
  "language_info": {
   "codemirror_mode": {
    "name": "ipython",
    "version": 3
   },
   "file_extension": ".py",
   "mimetype": "text/x-python",
   "name": "python",
   "nbconvert_exporter": "python",
   "pygments_lexer": "ipython3",
   "version": "3.9.7"
  }
 },
 "nbformat": 4,
 "nbformat_minor": 5
}
