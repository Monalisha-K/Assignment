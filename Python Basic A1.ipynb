{
 "cells": [
  {
   "cell_type": "markdown",
   "id": "bd57d108",
   "metadata": {},
   "source": [
    "# 1. In the below elements which of them are values or an expression? eg:- values can be integer or string and expressions will be mathematical operators.\n",
    "\n",
    "\n"
   ]
  },
  {
   "cell_type": "markdown",
   "id": "06aa72be",
   "metadata": {},
   "source": [
    "* ---> Operators\n",
    "'hello' --->Values(String)\n",
    "-87.8 ---> Values(Integer)\n",
    "- ---> Operators\n",
    "/ ---> Operators\n",
    "+ ---> Operators\n",
    "6 ---> Values(Integer)"
   ]
  },
  {
   "cell_type": "markdown",
   "id": "2480dc0f",
   "metadata": {},
   "source": [
    "# 2. What is the difference between string and variable?\n",
    "\n",
    "String- \n",
    "These are data that we store in variable .\n",
    "Stored in quotes\n",
    "Eg -'hello'\n",
    "\n",
    "Variable-\n",
    "Use to store data, it is as empty box that we fill with some data or value. Eg- hello\n",
    "\n"
   ]
  },
  {
   "cell_type": "markdown",
   "id": "87751660",
   "metadata": {},
   "source": [
    "# 3. Describe three different data types."
   ]
  },
  {
   "cell_type": "markdown",
   "id": "b24f9748",
   "metadata": {},
   "source": [
    "string datatype-\n",
    "--->str\n",
    "eg: x=\"Hello mona\"\n",
    "\n",
    "integer datatype-\n",
    "--->int(without decimal)\n",
    "eg: x=20\n",
    "    \n",
    "--->floating-point \n",
    "eg: x=2.3( decimal)"
   ]
  },
  {
   "cell_type": "markdown",
   "id": "c9654eee",
   "metadata": {},
   "source": [
    "# 4. What is an expression made up of? What do all expressions do?"
   ]
  },
  {
   "cell_type": "markdown",
   "id": "567e90a8",
   "metadata": {},
   "source": [
    "An expression is a combination of values and operators.\n",
    "All expression evaluates to a single value"
   ]
  },
  {
   "cell_type": "markdown",
   "id": "5c742ac7",
   "metadata": {},
   "source": [
    "# 5. This assignment statements, like spam = 10. What is the difference between an expression and a statement?"
   ]
  },
  {
   "cell_type": "markdown",
   "id": "7665da42",
   "metadata": {},
   "source": [
    "An expression evaluates to single value where as  a statement does not."
   ]
  },
  {
   "cell_type": "markdown",
   "id": "c12acbbe",
   "metadata": {},
   "source": [
    "# 6. After running the following code, what does the variable bacon contain?\n",
    "bacon = 22\n",
    "\n",
    "\n",
    "bacon + 1\n",
    "\n"
   ]
  },
  {
   "cell_type": "code",
   "execution_count": 1,
   "id": "c3777d05",
   "metadata": {},
   "outputs": [
    {
     "data": {
      "text/plain": [
       "23"
      ]
     },
     "execution_count": 1,
     "metadata": {},
     "output_type": "execute_result"
    }
   ],
   "source": [
    "bacon = 22\n",
    "bacon + 1"
   ]
  },
  {
   "cell_type": "code",
   "execution_count": 2,
   "id": "c54d20cc",
   "metadata": {},
   "outputs": [
    {
     "data": {
      "text/plain": [
       "22"
      ]
     },
     "execution_count": 2,
     "metadata": {},
     "output_type": "execute_result"
    }
   ],
   "source": [
    "# variable bacon will contain the same value as given , adding integer will not affect it. \n",
    "# +1 is only added to the previous variable , it does not reassign the value in bacon\n",
    "# to reassign we need to do bacon=bacon+1\n",
    "\n",
    "bacon"
   ]
  },
  {
   "cell_type": "markdown",
   "id": "9cb4d53d",
   "metadata": {},
   "source": [
    "# 7. What should the values of the following two terms be?\n",
    "'spam' + 'spamspam';\n",
    "'spam'* 3\n",
    "\n"
   ]
  },
  {
   "cell_type": "code",
   "execution_count": 3,
   "id": "5437d984",
   "metadata": {},
   "outputs": [],
   "source": [
    "'spam' + 'spamspam';\n",
    "\n",
    "# this will not give any output,it is only addition of two string(same datatype)"
   ]
  },
  {
   "cell_type": "code",
   "execution_count": 4,
   "id": "294a821e",
   "metadata": {},
   "outputs": [
    {
     "data": {
      "text/plain": [
       "'spamspamspam'"
      ]
     },
     "execution_count": 4,
     "metadata": {},
     "output_type": "execute_result"
    }
   ],
   "source": [
    "'spam'* 3"
   ]
  },
  {
   "cell_type": "markdown",
   "id": "636568f4",
   "metadata": {},
   "source": [
    "# 8. Why is eggs a valid variable name while 100 is invalid?\n"
   ]
  },
  {
   "cell_type": "markdown",
   "id": "d771402d",
   "metadata": {},
   "source": [
    "Variable name cannot start with integer value thats why it was showing 100 is invalid\n",
    "on the other hand eggs is valid because variable names can start with alphabet,alpha-numeric characters and underscore."
   ]
  },
  {
   "cell_type": "markdown",
   "id": "f6ca7021",
   "metadata": {},
   "source": [
    "# 9. What three functions can be used to get the integer, floating-point number, or string version of a value?\n"
   ]
  },
  {
   "cell_type": "markdown",
   "id": "2fb990fe",
   "metadata": {},
   "source": [
    "int() -->integer\n",
    "float() -->floating-point number\n",
    "str() --> string"
   ]
  },
  {
   "cell_type": "markdown",
   "id": "c772a055",
   "metadata": {},
   "source": [
    "# 10. Why does this expression cause an error? How can you fix it?\n",
    "'I have eaten'  + 99 +  'burritos.'"
   ]
  },
  {
   "cell_type": "code",
   "execution_count": 6,
   "id": "f89e1262",
   "metadata": {},
   "outputs": [
    {
     "ename": "TypeError",
     "evalue": "can only concatenate str (not \"int\") to str",
     "output_type": "error",
     "traceback": [
      "\u001b[1;31m---------------------------------------------------------------------------\u001b[0m",
      "\u001b[1;31mTypeError\u001b[0m                                 Traceback (most recent call last)",
      "\u001b[1;32m~\\AppData\\Local\\Temp/ipykernel_37176/517107679.py\u001b[0m in \u001b[0;36m<module>\u001b[1;34m\u001b[0m\n\u001b[1;32m----> 1\u001b[1;33m \u001b[1;34m'I have eaten'\u001b[0m  \u001b[1;33m+\u001b[0m \u001b[1;36m99\u001b[0m \u001b[1;33m+\u001b[0m  \u001b[1;34m'burritos.'\u001b[0m\u001b[1;33m\u001b[0m\u001b[1;33m\u001b[0m\u001b[0m\n\u001b[0m",
      "\u001b[1;31mTypeError\u001b[0m: can only concatenate str (not \"int\") to str"
     ]
    }
   ],
   "source": [
    "'I have eaten'  + 99 +  'burritos.'\n",
    "\n",
    "# Error is because we trying to concatenate str with int"
   ]
  },
  {
   "cell_type": "code",
   "execution_count": 8,
   "id": "dd112b44",
   "metadata": {},
   "outputs": [
    {
     "data": {
      "text/plain": [
       "'I have eaten 99 burritos.'"
      ]
     },
     "execution_count": 8,
     "metadata": {},
     "output_type": "execute_result"
    }
   ],
   "source": [
    "# we can change the data type of 99 i.e int to str by putting into single quote/double quote.\n",
    "\n",
    "'I have eaten'  + ' 99 ' +  'burritos.'"
   ]
  },
  {
   "cell_type": "code",
   "execution_count": null,
   "id": "0c918b35",
   "metadata": {},
   "outputs": [],
   "source": []
  }
 ],
 "metadata": {
  "kernelspec": {
   "display_name": "Python 3 (ipykernel)",
   "language": "python",
   "name": "python3"
  },
  "language_info": {
   "codemirror_mode": {
    "name": "ipython",
    "version": 3
   },
   "file_extension": ".py",
   "mimetype": "text/x-python",
   "name": "python",
   "nbconvert_exporter": "python",
   "pygments_lexer": "ipython3",
   "version": "3.9.7"
  }
 },
 "nbformat": 4,
 "nbformat_minor": 5
}
