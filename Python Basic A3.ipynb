{
 "cells": [
  {
   "cell_type": "markdown",
   "id": "81de548f",
   "metadata": {},
   "source": [
    "# 1. Why are functions advantageous to have in your programs?"
   ]
  },
  {
   "cell_type": "markdown",
   "id": "208014d3",
   "metadata": {},
   "source": [
    "It helps -\n",
    "to make our code shorter\n",
    "easily readable\n",
    "also reduce the need for duplicating same code again and agin"
   ]
  },
  {
   "cell_type": "markdown",
   "id": "735baa1a",
   "metadata": {},
   "source": [
    "# 2. When does the code in a function run: when it's specified or when it's called?\n"
   ]
  },
  {
   "cell_type": "markdown",
   "id": "1df673b9",
   "metadata": {},
   "source": [
    "The code in a function run when the function is called , not when the function is defined or specified"
   ]
  },
  {
   "cell_type": "markdown",
   "id": "67acc755",
   "metadata": {},
   "source": [
    "# 3. What statement creates a function?\n"
   ]
  },
  {
   "cell_type": "markdown",
   "id": "34c1d878",
   "metadata": {},
   "source": [
    "The def statement (i.e create) a function"
   ]
  },
  {
   "cell_type": "markdown",
   "id": "cee6cef3",
   "metadata": {},
   "source": [
    "# 4. What is the difference between a function and a function call?\n"
   ]
  },
  {
   "cell_type": "markdown",
   "id": "16ae1bb9",
   "metadata": {},
   "source": [
    "Function- consist of def statement and the code in its def clause.\n",
    "Function call- is what moves the program execution into function ,and it also evaluates to the function's return value."
   ]
  },
  {
   "cell_type": "markdown",
   "id": "1a1322f2",
   "metadata": {},
   "source": [
    "# 5. How many global scopes are there in a Python program? How many local scopes?\n"
   ]
  },
  {
   "cell_type": "markdown",
   "id": "68cbe321",
   "metadata": {},
   "source": [
    "Only one global scope is there in Python.\n",
    "A local scope is created whenever a function is created."
   ]
  },
  {
   "cell_type": "markdown",
   "id": "6d7906c9",
   "metadata": {},
   "source": [
    "# 6. What happens to variables in a local scope when the function call returns?"
   ]
  },
  {
   "cell_type": "markdown",
   "id": "c6e2fb00",
   "metadata": {},
   "source": [
    "When function call return , the local scope is destroyed and all the variable in it are lost or forgotten"
   ]
  },
  {
   "cell_type": "markdown",
   "id": "bc992871",
   "metadata": {},
   "source": [
    "# 7. What is the concept of a return value? Is it possible to have a return value in an expression?\n"
   ]
  },
  {
   "cell_type": "markdown",
   "id": "7bf0c6c0",
   "metadata": {},
   "source": [
    "Return value is value that a function call evaluates to .\n",
    "And its poosible to have return value in an expression"
   ]
  },
  {
   "cell_type": "markdown",
   "id": "62f2f304",
   "metadata": {},
   "source": [
    "# 8. If a function does not have a return statement, what is the return value of a call to that function?\n"
   ]
  },
  {
   "cell_type": "markdown",
   "id": "6d07b754",
   "metadata": {},
   "source": [
    "If there is no return statment for a function, its return value is None"
   ]
  },
  {
   "cell_type": "markdown",
   "id": "d314fa9f",
   "metadata": {},
   "source": [
    "# 9. How do you make a function variable refer to the global variable?\n"
   ]
  },
  {
   "cell_type": "markdown",
   "id": "92da69ab",
   "metadata": {},
   "source": [
    "A global statement will force a variable in a function to refer to global variable"
   ]
  },
  {
   "cell_type": "markdown",
   "id": "93690d64",
   "metadata": {},
   "source": [
    "# 10. What is the data type of None?\n"
   ]
  },
  {
   "cell_type": "markdown",
   "id": "8f5a3364",
   "metadata": {},
   "source": [
    "Datatype of None is -NoneType"
   ]
  },
  {
   "cell_type": "markdown",
   "id": "f37501fd",
   "metadata": {},
   "source": [
    "# 11. What does the sentence import areallyourpetsnamederic do?\n"
   ]
  },
  {
   "cell_type": "markdown",
   "id": "92328fc4",
   "metadata": {},
   "source": [
    "This will import statment- import module name"
   ]
  },
  {
   "cell_type": "markdown",
   "id": "03896d2b",
   "metadata": {},
   "source": [
    "# 12. If you had a bacon() feature in a spam module, what would you call it after importing spam?\n"
   ]
  },
  {
   "cell_type": "markdown",
   "id": "cb8ec224",
   "metadata": {},
   "source": [
    "Function is-\n",
    "spam.bacon()"
   ]
  },
  {
   "cell_type": "markdown",
   "id": "acbc0c7a",
   "metadata": {},
   "source": [
    "# 13. What can you do to save a programme from crashing if it encounters an error?\n"
   ]
  },
  {
   "cell_type": "markdown",
   "id": "a856ed20",
   "metadata": {},
   "source": [
    "Place a line of code that might cause an error in a try clause\n",
    "and handled by except clause."
   ]
  },
  {
   "cell_type": "markdown",
   "id": "13cf7efc",
   "metadata": {},
   "source": [
    "# 14. What is the purpose of the try clause? What is the purpose of the except clause?"
   ]
  },
  {
   "cell_type": "markdown",
   "id": "7141b3c9",
   "metadata": {},
   "source": [
    "Try clause- the code that could cause an error.\n",
    "Except clause- the code that executes if an error happens."
   ]
  }
 ],
 "metadata": {
  "kernelspec": {
   "display_name": "Python 3 (ipykernel)",
   "language": "python",
   "name": "python3"
  },
  "language_info": {
   "codemirror_mode": {
    "name": "ipython",
    "version": 3
   },
   "file_extension": ".py",
   "mimetype": "text/x-python",
   "name": "python",
   "nbconvert_exporter": "python",
   "pygments_lexer": "ipython3",
   "version": "3.9.7"
  }
 },
 "nbformat": 4,
 "nbformat_minor": 5
}
