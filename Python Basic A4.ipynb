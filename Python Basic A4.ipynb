{
 "cells": [
  {
   "cell_type": "markdown",
   "id": "c71c6ab6",
   "metadata": {},
   "source": [
    "# 1. What exactly is [ ]?"
   ]
  },
  {
   "cell_type": "markdown",
   "id": "a010c58a",
   "metadata": {},
   "source": [
    " This is empty list which contains no item. "
   ]
  },
  {
   "cell_type": "markdown",
   "id": "1b786259",
   "metadata": {},
   "source": [
    "# 2. In a list of values stored in a variable called spam, how would you assign the value 'hello' as the third value? (Assume [2, 4, 6, 8, 10] are in spam.).\n",
    "\n"
   ]
  },
  {
   "cell_type": "code",
   "execution_count": 1,
   "id": "2eabac86",
   "metadata": {},
   "outputs": [],
   "source": [
    "spam=[2,4,6,8,10]"
   ]
  },
  {
   "cell_type": "code",
   "execution_count": 2,
   "id": "583880c4",
   "metadata": {},
   "outputs": [],
   "source": [
    "#By indexing\n",
    "spam[2]='hello'"
   ]
  },
  {
   "cell_type": "code",
   "execution_count": 3,
   "id": "82af5ada",
   "metadata": {},
   "outputs": [
    {
     "data": {
      "text/plain": [
       "[2, 4, 'hello', 8, 10]"
      ]
     },
     "execution_count": 3,
     "metadata": {},
     "output_type": "execute_result"
    }
   ],
   "source": [
    "spam"
   ]
  },
  {
   "cell_type": "markdown",
   "id": "5b8ea0ad",
   "metadata": {},
   "source": [
    "# Let's pretend the spam includes the list ['a', 'b', 'c', 'd'] for the next three queries."
   ]
  },
  {
   "cell_type": "code",
   "execution_count": 4,
   "id": "5372c3dc",
   "metadata": {},
   "outputs": [],
   "source": [
    "spam=['a','b','c','d']"
   ]
  },
  {
   "cell_type": "markdown",
   "id": "7add591c",
   "metadata": {},
   "source": [
    "# 3. What is the value of spam[int(int('3' * 2) / 11)]?"
   ]
  },
  {
   "cell_type": "code",
   "execution_count": 5,
   "id": "562ba9a5",
   "metadata": {},
   "outputs": [
    {
     "data": {
      "text/plain": [
       "'d'"
      ]
     },
     "execution_count": 5,
     "metadata": {},
     "output_type": "execute_result"
    }
   ],
   "source": [
    "# first string'3' is multiply by 2 ='33'\n",
    "# '33' converted into integer 33\n",
    "# 33 is divided by 11 i.e 3\n",
    "# spam[3]=d\n",
    "\n",
    "spam[int(int('3' * 2) / 11)]"
   ]
  },
  {
   "cell_type": "markdown",
   "id": "b33a915a",
   "metadata": {},
   "source": [
    "# 4. What is the value of spam[-1]?"
   ]
  },
  {
   "cell_type": "code",
   "execution_count": 6,
   "id": "2386c938",
   "metadata": {},
   "outputs": [
    {
     "data": {
      "text/plain": [
       "'d'"
      ]
     },
     "execution_count": 6,
     "metadata": {},
     "output_type": "execute_result"
    }
   ],
   "source": [
    "#From the end of list, indexes are counted in negative\n",
    "spam[-1]"
   ]
  },
  {
   "cell_type": "markdown",
   "id": "36ace4e1",
   "metadata": {},
   "source": [
    "# 5. What is the value of spam[:2]?"
   ]
  },
  {
   "cell_type": "code",
   "execution_count": 7,
   "id": "1ab0c1ac",
   "metadata": {},
   "outputs": [
    {
     "data": {
      "text/plain": [
       "['a', 'b']"
      ]
     },
     "execution_count": 7,
     "metadata": {},
     "output_type": "execute_result"
    }
   ],
   "source": [
    "spam[:2]"
   ]
  },
  {
   "cell_type": "markdown",
   "id": "21d58412",
   "metadata": {},
   "source": [
    "# Let's pretend bacon has the list [3.14, 'cat,' 11, 'cat,' True] for the next three questions."
   ]
  },
  {
   "cell_type": "code",
   "execution_count": 8,
   "id": "60b0796f",
   "metadata": {},
   "outputs": [],
   "source": [
    "bacon=[3.14,'cat',11,'cat','True']"
   ]
  },
  {
   "cell_type": "markdown",
   "id": "cf598957",
   "metadata": {},
   "source": [
    "# 6. What is the value of bacon.index('cat')?"
   ]
  },
  {
   "cell_type": "code",
   "execution_count": 9,
   "id": "efaf6b04",
   "metadata": {},
   "outputs": [
    {
     "data": {
      "text/plain": [
       "1"
      ]
     },
     "execution_count": 9,
     "metadata": {},
     "output_type": "execute_result"
    }
   ],
   "source": [
    "#Here cat is 2 times but it will always take first appearance\n",
    "bacon.index('cat')"
   ]
  },
  {
   "cell_type": "markdown",
   "id": "3331332c",
   "metadata": {},
   "source": [
    "# 7. How does bacon.append(99) change the look of the list value in bacon?"
   ]
  },
  {
   "cell_type": "code",
   "execution_count": 10,
   "id": "c1813d9c",
   "metadata": {},
   "outputs": [],
   "source": [
    "# Append- add into end of the list\n",
    "bacon.append(99)"
   ]
  },
  {
   "cell_type": "code",
   "execution_count": 11,
   "id": "a59b14d3",
   "metadata": {},
   "outputs": [
    {
     "data": {
      "text/plain": [
       "[3.14, 'cat', 11, 'cat', 'True', 99]"
      ]
     },
     "execution_count": 11,
     "metadata": {},
     "output_type": "execute_result"
    }
   ],
   "source": [
    "bacon"
   ]
  },
  {
   "cell_type": "markdown",
   "id": "9fe27637",
   "metadata": {},
   "source": [
    "# 8. How does bacon.remove('cat') change the look of the list in bacon?"
   ]
  },
  {
   "cell_type": "code",
   "execution_count": 12,
   "id": "83fb92d1",
   "metadata": {},
   "outputs": [],
   "source": [
    "#remove cat -which appear first appear in the list\n",
    "bacon.remove('cat')"
   ]
  },
  {
   "cell_type": "code",
   "execution_count": 13,
   "id": "83c678ec",
   "metadata": {},
   "outputs": [
    {
     "data": {
      "text/plain": [
       "[3.14, 11, 'cat', 'True', 99]"
      ]
     },
     "execution_count": 13,
     "metadata": {},
     "output_type": "execute_result"
    }
   ],
   "source": [
    "bacon"
   ]
  },
  {
   "cell_type": "markdown",
   "id": "89d81a21",
   "metadata": {},
   "source": [
    "# 9. What are the list concatenation and list replication operators?"
   ]
  },
  {
   "cell_type": "markdown",
   "id": "6efeefa6",
   "metadata": {},
   "source": [
    "operators for list concatenation is '+'\n",
    "operators for list replication is '*'"
   ]
  },
  {
   "cell_type": "markdown",
   "id": "edbb1860",
   "metadata": {},
   "source": [
    "# 10. What is difference between the list methods append() and insert()?"
   ]
  },
  {
   "cell_type": "markdown",
   "id": "3fb8d0e7",
   "metadata": {},
   "source": [
    "append method -always add the element at the end of list while\n",
    "insert method -add the element at anywhere or at specific position in the list "
   ]
  },
  {
   "cell_type": "markdown",
   "id": "6c96a048",
   "metadata": {},
   "source": [
    "# 11. What are the two methods for removing items from a list?"
   ]
  },
  {
   "cell_type": "markdown",
   "id": "78f6a6b7",
   "metadata": {},
   "source": [
    "Two methods for removing items from a list-\n",
    "pop()\n",
    "remove()"
   ]
  },
  {
   "cell_type": "markdown",
   "id": "98ed4818",
   "metadata": {},
   "source": [
    "# 12. Describe how list values and string values are identical."
   ]
  },
  {
   "cell_type": "markdown",
   "id": "e05dc396",
   "metadata": {},
   "source": [
    "Similarities between list and string values-\n",
    "Both value can be passed into len()\n",
    "Have indexes and slicing \n",
    "Both can be used for loop\n",
    "Can be concatenated\n",
    "Can be used with in and not in operators"
   ]
  },
  {
   "cell_type": "markdown",
   "id": "ff745630",
   "metadata": {},
   "source": [
    "# 13. What's the difference between tuples and lists?"
   ]
  },
  {
   "cell_type": "markdown",
   "id": "12606987",
   "metadata": {},
   "source": [
    "Tuple- Immutable(cannot be changed)\n",
    "       Their values cannot be added,removed or changed\n",
    "\n",
    "List- Mutable(can be changed)\n",
    "      Their values can be added,removed or changed"
   ]
  },
  {
   "cell_type": "markdown",
   "id": "a7d940c7",
   "metadata": {},
   "source": [
    "# 14. How do you type a tuple value that only contains the integer 42?"
   ]
  },
  {
   "cell_type": "markdown",
   "id": "9054c47e",
   "metadata": {},
   "source": [
    "t=(42,)"
   ]
  },
  {
   "cell_type": "code",
   "execution_count": 14,
   "id": "0279fad9",
   "metadata": {},
   "outputs": [
    {
     "name": "stdout",
     "output_type": "stream",
     "text": [
      "<class 'int'>\n",
      "<class 'tuple'>\n"
     ]
    }
   ],
   "source": [
    "we have put the value into () and use comma after that to recognise it as tuple otherwise it will consider a string.\n",
    "Example -\n",
    "\n",
    "t=(42)\n",
    "print(type(t))\n",
    "\n",
    "t1=(42,)\n",
    "print(type(t1))"
   ]
  },
  {
   "cell_type": "markdown",
   "id": "2ef17ab5",
   "metadata": {},
   "source": [
    "# 15. How do you get a list value's tuple form? How do you get a tuple value's list form?"
   ]
  },
  {
   "cell_type": "markdown",
   "id": "ec47d589",
   "metadata": {},
   "source": [
    "To get list value in tuple form we pass list into function- tuple()\n",
    "And to get tuple value in list form, we pass tuple into function- list()"
   ]
  },
  {
   "cell_type": "markdown",
   "id": "b540277d",
   "metadata": {},
   "source": [
    "# 16. Variables that \"contain\" list values are not necessarily lists themselves. Instead, what do they contain?"
   ]
  },
  {
   "cell_type": "markdown",
   "id": "30c70405",
   "metadata": {},
   "source": [
    "They contain references to list values"
   ]
  },
  {
   "cell_type": "markdown",
   "id": "3688034c",
   "metadata": {},
   "source": [
    "# 17. How do you distinguish between copy.copy() and copy.deepcopy()?"
   ]
  },
  {
   "cell_type": "markdown",
   "id": "7363fe49",
   "metadata": {},
   "source": [
    "copy.copy()- function will do shallow copy of a list\n",
    "copy.deepcopy()- function will do a deep copy of a list"
   ]
  }
 ],
 "metadata": {
  "kernelspec": {
   "display_name": "Python 3 (ipykernel)",
   "language": "python",
   "name": "python3"
  },
  "language_info": {
   "codemirror_mode": {
    "name": "ipython",
    "version": 3
   },
   "file_extension": ".py",
   "mimetype": "text/x-python",
   "name": "python",
   "nbconvert_exporter": "python",
   "pygments_lexer": "ipython3",
   "version": "3.9.7"
  }
 },
 "nbformat": 4,
 "nbformat_minor": 5
}
